{
 "cells": [
  {
   "cell_type": "markdown",
   "metadata": {},
   "source": [
    "# Lecture 5 Homework\n",
    "Train ResNet34, varying the number of threads and the number of prefetched batches in the data loader. Plot the resulting throughput."
   ]
  },
  {
   "cell_type": "code",
   "execution_count": null,
   "metadata": {},
   "outputs": [],
   "source": [
    "# Format: (number of prefetch batches, number of threads, mean images per second, stdev)\n",
    "data = np.array([\n",
    "    8, 128, 371.91, 189.19\n",
    "])"
   ]
  },
  {
   "cell_type": "code",
   "execution_count": null,
   "metadata": {},
   "outputs": [],
   "source": [
    "# Plot img / sec vs. threads for different amounts of prefetching\n",
    "prefetch_batches = np.unique(data[:, 0])\n",
    "\n",
    "fig, ax = subplots()\n",
    "\n",
    "for pb in prefetch_batches\n",
    "    ind = (data[:, 0] == pb) \n",
    "    threads = data[ind, 1]\n",
    "    images = data[ind, 2]\n",
    "    ax.plot(threads, images, label = \"prefetch = %d\" % (pb))\n",
    "\n",
    "ax.set_xlabel(\"Threads\")\n",
    "ax.set_ylabel(\"Images per second\")\n",
    "ax.legend()"
   ]
  }
 ],
 "metadata": {
  "language_info": {
   "name": "python"
  },
  "orig_nbformat": 4
 },
 "nbformat": 4,
 "nbformat_minor": 2
}

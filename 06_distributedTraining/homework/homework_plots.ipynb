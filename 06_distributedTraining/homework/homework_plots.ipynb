{
 "cells": [
  {
   "cell_type": "code",
   "execution_count": null,
   "metadata": {},
   "outputs": [],
   "source": [
    "import numpy as np\n",
    "from matplotlib import pyplot as plt"
   ]
  },
  {
   "cell_type": "code",
   "execution_count": null,
   "metadata": {},
   "outputs": [],
   "source": [
    "# Timings\n",
    "t1 = [1.535, 1.528, 1.529, 1.532, 1.542]\n",
    "t2 = [1.609, 1.593, 1.602, 1.660]\n",
    "t4 = [0.660, 0.708, 0.719, 0.771, 0.661]\n",
    "t8 = [0.557, 0.564, 0.558, 0.560, 0.544]\n",
    "t16 = [0.507, 0.507, 0.510, 0.504, 0.503]"
   ]
  },
  {
   "cell_type": "code",
   "execution_count": null,
   "metadata": {},
   "outputs": [],
   "source": [
    "# Plot\n",
    "for ranks in [1, 2, 4, 8, 16]\n",
    "    data = np.loadtxt(\"hw_loss_accuracy_1.txt\", delimiter=' ')\n",
    "\n",
    "    fig, (ax1, ax2) = plt.subplots(ncols = 2)\n",
    "    \n",
    "    ax1.plot(data[:,2], \"-o\")\n",
    "    ax1.set_xlabel(\"Steps\")\n",
    "    ax1.set_ylabel(\"Loss\")\n",
    "    ax1.set_title(\"Loss History, %d GPUs\")\n",
    "\n",
    "    ax2.plot(data[:,3], \"-o\")\n",
    "    ax2.set_xlabel(\"Steps\")\n",
    "    ax2.set_ylabel(\"Accuracy\")\n",
    "    ax2.set_title(\"Accuracy History, %d GPUs\")\n",
    "\n",
    "    fig.set_tight_layout(True)\n",
    "    fig.savefig(\"accuracy_%d.pdf\" % ranks)"
   ]
  }
 ],
 "metadata": {
  "language_info": {
   "name": "python"
  },
  "orig_nbformat": 4
 },
 "nbformat": 4,
 "nbformat_minor": 2
}

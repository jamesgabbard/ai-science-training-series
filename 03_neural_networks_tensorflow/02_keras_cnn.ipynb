{
 "cells": [
  {
   "cell_type": "markdown",
   "metadata": {},
   "source": [
    "# CIFAR-10 dataset classification with CNNs\n",
    "\n",
    "Author: Tanwi Mallick, adapting codes from Bethany Lusch, Prasanna Balprakash, Corey Adams, and Kyle Felker\n",
    "\n",
    "In this notebook, we'll continue the CIFAR-10 problem using the Keras API (as included in the TensorFlow library) and incorporating convolutional layers.\n",
    "\n",
    "First, the needed imports."
   ]
  },
  {
   "cell_type": "code",
<<<<<<< HEAD
   "execution_count": 1,
=======
   "execution_count": 7,
>>>>>>> upstream/main
   "metadata": {},
   "outputs": [],
   "source": [
    "%matplotlib inline\n",
    "\n",
    "import tensorflow as tf\n",
    "\n",
    "import numpy\n",
    "import matplotlib.pyplot as plt\n",
    "import time"
   ]
  },
  {
   "cell_type": "markdown",
   "metadata": {},
   "source": [
    "## CIFAR-10 data set\n",
    "\n",
    "Again we'll load the cifar10 data set. CIFAR-10 dataset contains 32x32 color images from 10 classes: airplane, automobile, bird, cat, deer, dog, frog, horse, ship, truck. If you haven't downloaded it already, it could take a while."
   ]
  },
  {
   "cell_type": "code",
<<<<<<< HEAD
   "execution_count": 2,
=======
   "execution_count": 8,
>>>>>>> upstream/main
   "metadata": {},
   "outputs": [],
   "source": [
    "(x_train, y_train), (x_test, y_test) = tf.keras.datasets.cifar10.load_data()\n",
    "x_train = x_train.astype(numpy.float32)\n",
    "x_test  = x_test.astype(numpy.float32)\n",
    "\n",
    "x_train /= 255.\n",
    "x_test  /= 255.\n",
    "\n",
    "y_train = y_train.astype(numpy.int32)\n",
    "y_test  = y_test.astype(numpy.int32)"
   ]
  },
  {
   "cell_type": "markdown",
   "metadata": {},
   "source": [
    "This time we won't flatten the images. \n",
    "\n",
    "The training data (`X_train`) is a 3rd-order tensor of size (50000, 32, 32), i.e. it consists of 50000 images of size 32x32 pixels. \n",
    "\n",
    "`y_train` is a 50000-dimensional vector containing the correct classes ('airplane', 'automobile', 'bird', 'cat', 'deer', 'dog', 'frog', 'horse', 'ship', 'truck') for each training sample."
   ]
  },
  {
   "cell_type": "markdown",
   "metadata": {},
   "source": [
    "## Convolutional neural network (CNN)\n",
    "\n",
    "CNN is a type of deep learning model for processing data that has a grid pattern, such as images.\n",
    "\n",
    "Let's use a small model that includes convolutional layers\n",
    "\n",
    "- The Conv2D layers operate on 2D matrices so we input the images directly to the model.\n",
    "    - The two Conv2D layers below learn 32 and 64 filters respectively. \n",
    "    - They are learning filters for 3x3 windows.\n",
    "- The MaxPooling2D layer reduces the spatial dimensions, that is, makes the image smaller.\n",
    "    - It downsamples by taking the maximum value in the window \n",
    "    - The pool size of (2, 2) below means the windows are 2x2. \n",
    "    - Helps in extracting important features and reduce computation\n",
    "- The Flatten layer flattens the 2D matrices into vectors, so we can then switch to Dense layers as in the MLP model.\n",
    "\n",
    "See https://keras.io/layers/convolutional/, https://keras.io/layers/pooling/ for more information."
   ]
  },
  {
   "cell_type": "markdown",
   "metadata": {},
   "source": [
    "![conv layer](images/conv_layer.png)\n",
    "Image credit: [Jason Brownlee](https://machinelearningmastery.com/convolutional-layers-for-deep-learning-neural-networks/)"
   ]
  },
  {
   "cell_type": "markdown",
   "metadata": {},
   "source": [
    "![conv layer](images/conv.png)\n",
    "Image credit: [Anh H. Reynolds](https://anhreynolds.com/blogs/cnn.html)"
   ]
  },
  {
   "cell_type": "markdown",
   "metadata": {},
   "source": [
    "\n",
    "<img src=\"images/MaxpoolSample2.png\" width=\"600\" hight=\"600\" align=\"left\"/>"
   ]
  },
  {
   "cell_type": "code",
<<<<<<< HEAD
   "execution_count": 3,
=======
   "execution_count": 9,
>>>>>>> upstream/main
   "metadata": {},
   "outputs": [],
   "source": [
    "class CIFAR10Classifier(tf.keras.models.Model):\n",
    "\n",
    "    def __init__(self, activation=tf.nn.tanh):\n",
    "        tf.keras.models.Model.__init__(self)\n",
    "\n",
    "        self.conv_1 = tf.keras.layers.Conv2D(32, [3, 3], activation='relu')\n",
    "        self.conv_2 = tf.keras.layers.Conv2D(64, [3, 3], activation='relu')\n",
    "        self.pool_3 = tf.keras.layers.MaxPooling2D(pool_size=(2, 2))\n",
    "        self.drop_4 = tf.keras.layers.Dropout(0.25)\n",
    "        self.dense_5 = tf.keras.layers.Dense(128, activation='relu')\n",
    "        self.drop_6 = tf.keras.layers.Dropout(0.5)\n",
    "        self.dense_7 = tf.keras.layers.Dense(10, activation='softmax')\n",
    "\n",
    "    def call(self, inputs):\n",
    "\n",
    "        x = self.conv_1(inputs)\n",
    "        x = self.conv_2(x)\n",
    "        x = self.pool_3(x)\n",
    "        x = self.drop_4(x)\n",
    "        x = tf.keras.layers.Flatten()(x)\n",
    "        x = self.dense_5(x)\n",
    "        x = self.drop_6(x)\n",
    "        x = self.dense_7(x)\n",
    "\n",
    "        return x"
   ]
  },
  {
   "cell_type": "markdown",
   "metadata": {},
   "source": [
    "### Simple training"
   ]
  },
  {
   "cell_type": "markdown",
   "metadata": {},
   "source": [
    "Here is a concise way to train the network, like we did in the previous notebook. We'll see a more verbose approach below that allows more performance tuning."
   ]
  },
  {
   "cell_type": "code",
<<<<<<< HEAD
   "execution_count": 4,
=======
   "execution_count": 10,
>>>>>>> upstream/main
   "metadata": {},
   "outputs": [],
   "source": [
    "def train_network_concise(_batch_size, _n_training_epochs, _lr):\n",
    "\n",
    "    cnn_model = CIFAR10Classifier()\n",
    "\n",
    "    cnn_model.compile(loss=\"sparse_categorical_crossentropy\", optimizer=\"adam\", metrics=['accuracy'])\n",
    "    \n",
    "    history = cnn_model.fit(x_train, y_train, batch_size=_batch_size, epochs=_n_training_epochs)\n",
    "    return history, cnn_model"
   ]
  },
  {
   "cell_type": "code",
   "execution_count": 8,
   "metadata": {},
   "outputs": [
    {
     "name": "stdout",
     "output_type": "stream",
     "text": [
      "Epoch 1/30\n"
     ]
    },
    {
     "name": "stderr",
     "output_type": "stream",
     "text": [
      "2022-10-12 12:48:41.462327: I tensorflow/core/grappler/optimizers/custom_graph_optimizer_registry.cc:114] Plugin optimizer for device_type GPU is enabled.\n"
     ]
    },
    {
     "name": "stdout",
     "output_type": "stream",
     "text": [
      "98/98 [==============================] - 5s 45ms/step - loss: 1.7819 - accuracy: 0.3555\n",
      "Epoch 2/30\n",
      "98/98 [==============================] - 4s 43ms/step - loss: 1.4032 - accuracy: 0.4986\n",
      "Epoch 3/30\n",
      "98/98 [==============================] - 4s 45ms/step - loss: 1.2401 - accuracy: 0.5614\n",
      "Epoch 4/30\n",
      "98/98 [==============================] - 4s 44ms/step - loss: 1.1520 - accuracy: 0.5943\n",
      "Epoch 5/30\n",
      "98/98 [==============================] - 4s 44ms/step - loss: 1.0737 - accuracy: 0.6190\n",
      "Epoch 6/30\n",
      "98/98 [==============================] - 4s 44ms/step - loss: 1.0148 - accuracy: 0.6414\n",
      "Epoch 7/30\n",
      "98/98 [==============================] - 4s 44ms/step - loss: 0.9728 - accuracy: 0.6581\n",
      "Epoch 8/30\n",
      "98/98 [==============================] - 4s 43ms/step - loss: 0.9203 - accuracy: 0.6754\n",
      "Epoch 9/30\n",
      "98/98 [==============================] - 4s 43ms/step - loss: 0.8872 - accuracy: 0.6884\n",
      "Epoch 10/30\n",
      "98/98 [==============================] - 4s 44ms/step - loss: 0.8541 - accuracy: 0.7015\n",
      "Epoch 11/30\n",
      "98/98 [==============================] - 4s 43ms/step - loss: 0.8218 - accuracy: 0.7100\n",
      "Epoch 12/30\n",
      "98/98 [==============================] - 4s 45ms/step - loss: 0.7934 - accuracy: 0.7179\n",
      "Epoch 13/30\n",
      "98/98 [==============================] - 4s 43ms/step - loss: 0.7708 - accuracy: 0.7277\n",
      "Epoch 14/30\n",
      "98/98 [==============================] - 4s 42ms/step - loss: 0.7491 - accuracy: 0.7326\n",
      "Epoch 15/30\n",
      "98/98 [==============================] - 4s 42ms/step - loss: 0.7268 - accuracy: 0.7399\n",
      "Epoch 16/30\n",
      "98/98 [==============================] - 4s 43ms/step - loss: 0.7113 - accuracy: 0.7501\n",
      "Epoch 17/30\n",
      "98/98 [==============================] - 4s 42ms/step - loss: 0.6865 - accuracy: 0.7545\n",
      "Epoch 18/30\n",
      "98/98 [==============================] - 4s 42ms/step - loss: 0.6633 - accuracy: 0.7632\n",
      "Epoch 19/30\n",
      "98/98 [==============================] - 4s 43ms/step - loss: 0.6476 - accuracy: 0.7673\n",
      "Epoch 20/30\n",
      "98/98 [==============================] - 4s 43ms/step - loss: 0.6315 - accuracy: 0.7746\n",
      "Epoch 21/30\n",
      "98/98 [==============================] - 4s 43ms/step - loss: 0.6137 - accuracy: 0.7809\n",
      "Epoch 22/30\n",
      "98/98 [==============================] - 4s 42ms/step - loss: 0.6074 - accuracy: 0.7800\n",
      "Epoch 23/30\n",
      "98/98 [==============================] - 4s 42ms/step - loss: 0.5855 - accuracy: 0.7881\n",
      "Epoch 24/30\n",
      "98/98 [==============================] - 4s 42ms/step - loss: 0.5676 - accuracy: 0.7950\n",
      "Epoch 25/30\n",
      "98/98 [==============================] - 4s 42ms/step - loss: 0.5488 - accuracy: 0.8023\n",
      "Epoch 26/30\n",
      "98/98 [==============================] - 4s 42ms/step - loss: 0.5360 - accuracy: 0.8058\n",
      "Epoch 27/30\n",
      "98/98 [==============================] - 4s 42ms/step - loss: 0.5218 - accuracy: 0.8106\n",
      "Epoch 28/30\n",
      "98/98 [==============================] - 4s 42ms/step - loss: 0.5070 - accuracy: 0.8166\n",
      "Epoch 29/30\n",
      "98/98 [==============================] - 4s 42ms/step - loss: 0.5005 - accuracy: 0.8187\n",
      "Epoch 30/30\n",
      "98/98 [==============================] - 4s 42ms/step - loss: 0.4883 - accuracy: 0.8224\n"
     ]
    }
   ],
   "source": [
    "# This took 43 seconds per epoch on my laptop\n",
    "batch_size = 512\n",
    "epochs = 30\n",
    "lr = .01\n",
    "history, cnn_model = train_network_concise(batch_size, epochs, lr)"
   ]
  },
  {
   "cell_type": "markdown",
   "metadata": {},
   "source": [
    "Accuracy for test data.  The model should be better than the non-convolutional model even if you're only patient enough for three epochs. "
   ]
  },
  {
   "cell_type": "code",
   "execution_count": 7,
   "metadata": {},
   "outputs": [
    {
     "data": {
      "image/png": "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",
      "text/plain": [
       "<Figure size 500x300 with 1 Axes>"
      ]
     },
     "metadata": {},
     "output_type": "display_data"
    },
    {
     "data": {
      "image/png": "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",
      "text/plain": [
       "<Figure size 500x300 with 1 Axes>"
      ]
     },
     "metadata": {},
     "output_type": "display_data"
    }
   ],
   "source": [
    "plt.figure(figsize=(5,3))\n",
    "plt.plot(history.epoch,history.history['loss'])\n",
    "plt.title('loss')\n",
    "\n",
    "plt.figure(figsize=(5,3))\n",
    "plt.plot(history.epoch,history.history['accuracy'])\n",
    "plt.title('accuracy');"
   ]
  },
  {
   "cell_type": "markdown",
   "metadata": {},
   "source": [
    "### Inference"
   ]
  },
  {
   "cell_type": "markdown",
   "metadata": {},
   "source": [
    "With enough training epochs, the test accuracy should exceed 96.53%.\n",
    "\n",
    "You can compare your result with the state-of-the art [here](http://rodrigob.github.io/are_we_there_yet/build/classification_datasets_results.html). "
   ]
  },
  {
   "cell_type": "code",
   "execution_count": 9,
   "metadata": {},
   "outputs": [
    {
     "name": "stderr",
     "output_type": "stream",
     "text": [
      "2022-10-12 12:53:05.213752: I tensorflow/core/grappler/optimizers/custom_graph_optimizer_registry.cc:114] Plugin optimizer for device_type GPU is enabled.\n"
     ]
    },
    {
     "name": "stdout",
     "output_type": "stream",
     "text": [
      "313/313 - 2s - loss: 0.8666 - accuracy: 0.7122 - 2s/epoch - 6ms/step\n",
      "accuracy: 71.22%\n",
      "CPU times: user 1.2 s, sys: 993 ms, total: 2.19 s\n",
      "Wall time: 2.03 s\n"
     ]
    }
   ],
   "source": [
    "%%time\n",
    "x_test_reshaped = numpy.expand_dims(x_test, -1)\n",
    "scores = cnn_model.evaluate(x_test, y_test, verbose=2)\n",
    "print(\"%s: %.2f%%\" % (cnn_model.metrics_names[1], scores[1]*100))"
   ]
  },
  {
   "cell_type": "markdown",
   "metadata": {},
   "source": [
    "We can also again check the confusion matrix"
   ]
  },
  {
   "cell_type": "code",
   "execution_count": 10,
   "metadata": {},
   "outputs": [
    {
     "name": "stdout",
     "output_type": "stream",
     "text": [
      "Confusion matrix (rows: true classes; columns: predicted classes):\n",
      "\n",
      " 18/313 [>.............................] - ETA: 2s "
     ]
    },
    {
     "name": "stderr",
     "output_type": "stream",
     "text": [
      "2022-10-12 12:53:17.607620: I tensorflow/core/grappler/optimizers/custom_graph_optimizer_registry.cc:114] Plugin optimizer for device_type GPU is enabled.\n"
     ]
    },
    {
     "name": "stdout",
     "output_type": "stream",
     "text": [
      "313/313 [==============================] - 1s 4ms/step\n",
      "[[759  23  66  21  15   6   7   7  50  46]\n",
      " [ 17 824   8  14   3   7   4   4  17 102]\n",
      " [ 64   7 611  53  60  91  60  34  10  10]\n",
      " [ 26  10  77 497  48 237  60  25   7  13]\n",
      " [ 28   2  97  64 619  49  59  61  15   6]\n",
      " [ 12   6  64 132  28 697  16  34   8   3]\n",
      " [  9   5  43  67  30  39 787   6   4  10]\n",
      " [ 15   4  44  42  55  83   0 736   0  21]\n",
      " [ 75  54  16  11   3  11   7   2 775  46]\n",
      " [ 38  72   7  12   4   8   4  15  23 817]]\n",
      "\n",
      "Classification accuracy for each class:\n",
      "\n",
      "0: 0.7590\n",
      "1: 0.8240\n",
      "2: 0.6110\n",
      "3: 0.4970\n",
      "4: 0.6190\n",
      "5: 0.6970\n",
      "6: 0.7870\n",
      "7: 0.7360\n",
      "8: 0.7750\n",
      "9: 0.8170\n"
     ]
    }
   ],
   "source": [
    "from sklearn.metrics import confusion_matrix\n",
    "\n",
    "print('Confusion matrix (rows: true classes; columns: predicted classes):'); print()\n",
    "predictions = cnn_model.predict(x_test)\n",
    "cm=confusion_matrix(y_test, numpy.argmax(predictions, axis=1), labels=list(range(10)))\n",
    "print(cm); print()\n",
    "\n",
    "print('Classification accuracy for each class:'); print()\n",
    "for i,j in enumerate(cm.diagonal()/cm.sum(axis=1)): print(\"%d: %.4f\" % (i,j))"
   ]
  },
  {
   "cell_type": "markdown",
   "metadata": {},
   "source": [
    "### More verbose training"
   ]
  },
  {
   "cell_type": "markdown",
   "metadata": {},
   "source": [
    "This approach explicitly handles the looping over data. It will be helpful in future weeks for diving in and optimizing"
   ]
  },
  {
   "cell_type": "code",
   "execution_count": 29,
   "metadata": {},
   "outputs": [],
   "source": [
    "def compute_loss(y_true, y_pred):\n",
    "    # if labels are integers, use sparse categorical crossentropy\n",
    "    # network's final layer is softmax, so from_logtis=False\n",
    "    scce = tf.keras.losses.SparseCategoricalCrossentropy(from_logits=False)\n",
    "    # if labels are one-hot encoded, use standard crossentropy\n",
    "\n",
    "    return scce(y_true, y_pred)  "
   ]
  },
  {
   "cell_type": "code",
   "execution_count": 30,
   "metadata": {},
   "outputs": [],
   "source": [
    "def forward_pass(model, batch_data, y_true):\n",
    "    y_pred = model(batch_data)\n",
    "    loss = compute_loss(y_true, y_pred)\n",
    "    return loss"
   ]
  },
  {
   "cell_type": "code",
   "execution_count": 31,
   "metadata": {},
   "outputs": [],
   "source": [
    "# Here is a function that will manage the training loop for us:\n",
    "\n",
    "def train_loop(batch_size, n_training_epochs, model, opt):\n",
    "    \n",
    "    @tf.function()\n",
    "    def train_iteration(data, y_true, model, opt):\n",
    "        with tf.GradientTape() as tape:\n",
    "            loss = forward_pass(model, data, y_true)\n",
    "\n",
    "        trainable_vars = model.trainable_variables\n",
    "\n",
    "        # Apply the update to the network (one at a time):\n",
    "        grads = tape.gradient(loss, trainable_vars)\n",
    "\n",
    "        opt.apply_gradients(zip(grads, trainable_vars))\n",
    "        return loss\n",
    "\n",
    "    for i_epoch in range(n_training_epochs):\n",
    "        print(\"beginning epoch %d\" % i_epoch)\n",
    "        start = time.time()\n",
    "\n",
    "        epoch_steps = int(50000/batch_size)\n",
    "        dataset.shuffle(50000) # Shuffle the whole dataset in memory\n",
    "        batches = dataset.batch(batch_size=batch_size, drop_remainder=True)\n",
    "        \n",
    "        for i_batch, (batch_data, y_true) in enumerate(batches):\n",
    "            batch_data = tf.reshape(batch_data, [-1, 32, 32, 3])\n",
    "            loss = train_iteration(batch_data, y_true, model, opt)\n",
    "            \n",
    "        end = time.time()\n",
    "        print(\"took %1.1f seconds for epoch #%d\" % (end-start, i_epoch))"
   ]
  },
  {
   "cell_type": "code",
   "execution_count": 32,
   "metadata": {},
   "outputs": [],
   "source": [
    "def train_network(_batch_size, _n_training_epochs, _lr):\n",
    "\n",
    "    cifar_model = CIFAR10Classifier()\n",
    "\n",
    "    opt = tf.keras.optimizers.Adam(_lr)\n",
    "\n",
    "    train_loop(_batch_size, _n_training_epochs, cifar_model, opt)"
   ]
  },
  {
   "cell_type": "code",
   "execution_count": 33,
   "metadata": {},
   "outputs": [
    {
     "name": "stdout",
     "output_type": "stream",
     "text": [
      "beginning epoch 0\n",
      "WARNING:tensorflow:AutoGraph could not transform <function train_loop.<locals>.train_iteration at 0x7ff260dfca60> and will run it as-is.\n",
      "Please report this to the TensorFlow team. When filing the bug, set the verbosity to 10 (on Linux, `export AUTOGRAPH_VERBOSITY=10`) and attach the full output.\n",
      "Cause: 'arguments' object has no attribute 'posonlyargs'\n",
      "To silence this warning, decorate the function with @tf.autograph.experimental.do_not_convert\n",
      "WARNING: AutoGraph could not transform <function train_loop.<locals>.train_iteration at 0x7ff260dfca60> and will run it as-is.\n",
      "Please report this to the TensorFlow team. When filing the bug, set the verbosity to 10 (on Linux, `export AUTOGRAPH_VERBOSITY=10`) and attach the full output.\n",
      "Cause: 'arguments' object has no attribute 'posonlyargs'\n",
      "To silence this warning, decorate the function with @tf.autograph.experimental.do_not_convert\n",
      "took 38.9 seconds for epoch #0\n",
      "beginning epoch 1\n",
      "took 39.8 seconds for epoch #1\n",
      "beginning epoch 2\n",
      "took 39.0 seconds for epoch #2\n"
     ]
    }
   ],
   "source": [
    "dataset = tf.data.Dataset.from_tensor_slices((x_train, y_train))\n",
    "dataset.shuffle(50000)\n",
    "\n",
    "batch_size = 512\n",
    "epochs = 3\n",
    "lr = .01\n",
    "train_network(batch_size, epochs, lr)"
   ]
  },
  {
   "cell_type": "markdown",
   "metadata": {},
   "source": [
    "# Homework: improve the accuracy of this model"
   ]
  },
  {
   "cell_type": "markdown",
   "metadata": {},
   "source": [
    "Update this notebook to ensure more accuracy. How high can it be raised? Changes like increasing the number of epochs, altering the learning rate, altering the number of neurons the hidden layer, chnaging the optimizer, etc. could be made directly in the notebook. You can also change the model specification by expanding the network's layer. The current notebook's training accuracy is roughly 58.06%, although it varies randomly."
   ]
  },
  {
   "cell_type": "code",
   "execution_count": 12,
   "metadata": {},
   "outputs": [],
   "source": [
    "class CIFAR10Classifier(tf.keras.models.Model):\n",
    "\n",
    "    def __init__(self, activation=tf.nn.tanh):\n",
    "        tf.keras.models.Model.__init__(self)\n",
    "\n",
    "        self.conv_1 = tf.keras.layers.Conv2D(32, [3, 3], activation='relu', kernel_initializer='he_uniform', padding='same')\n",
    "        self.conv_2 = tf.keras.layers.Conv2D(32, [3, 3], activation='relu', kernel_initializer='he_uniform', padding='same')\n",
    "        self.pool_3 = tf.keras.layers.MaxPooling2D(pool_size=(2, 2))\n",
    "        self.drop_4 = tf.keras.layers.Dropout(0.2)\n",
    "        self.conv_5 = tf.keras.layers.Conv2D(64, [3, 3], activation='relu', kernel_initializer='he_uniform', padding='same')\n",
    "        self.conv_6 = tf.keras.layers.Conv2D(64, [3, 3], activation='relu', kernel_initializer='he_uniform', padding='same')\n",
    "        self.pool_7 = tf.keras.layers.MaxPooling2D(pool_size=(2, 2))\n",
    "        self.drop_8 = tf.keras.layers.Dropout(0.2)\n",
    "        self.conv_9 = tf.keras.layers.Conv2D(128, [3, 3], activation='relu', kernel_initializer='he_uniform', padding='same')\n",
    "        self.conv_10 = tf.keras.layers.Conv2D(128, [3, 3], activation='relu', kernel_initializer='he_uniform', padding='same')\n",
    "        self.pool_11 = tf.keras.layers.MaxPooling2D(pool_size=(2, 2))\n",
    "        self.drop_12 = tf.keras.layers.Dropout(0.2)\n",
    "        self.dense_13 = tf.keras.layers.Dense(128, activation='relu')\n",
    "        self.drop_14 = tf.keras.layers.Dropout(0.2)\n",
    "        self.dense_15 = tf.keras.layers.Dense(10, activation='softmax')\n",
    "        \n",
    "\n",
    "    def call(self, inputs):\n",
    "\n",
    "        x = self.conv_1(inputs)\n",
    "        x = self.conv_2(x)\n",
    "        x = self.pool_3(x)\n",
    "        x = self.drop_4(x)\n",
    "        \n",
    "        x = self.conv_5(x)\n",
    "        x = self.conv_6(x)\n",
    "        x = self.pool_7(x)\n",
    "        x = self.drop_8(x)\n",
    "        \n",
    "        \n",
    "        x = self.conv_9(x)\n",
    "        x = self.conv_10(x)\n",
    "        x = self.pool_11(x)\n",
    "        x = self.drop_12(x)\n",
    "        \n",
    "        \n",
    "        x = tf.keras.layers.Flatten()(x)\n",
    "        x = self.dense_13(x)\n",
    "        x = self.drop_14(x)\n",
    "        x = self.dense_15(x)\n",
    "\n",
    "        return x"
   ]
  },
  {
   "cell_type": "code",
   "execution_count": 13,
   "metadata": {},
   "outputs": [],
   "source": [
    "def train_network_concise(_batch_size, _n_training_epochs, _lr):\n",
    "\n",
    "    cnn_model = CIFAR10Classifier()\n",
    "\n",
    "    cnn_model.compile(loss=\"sparse_categorical_crossentropy\", optimizer=\"adam\", metrics=['accuracy'])\n",
    "    \n",
    "    history = cnn_model.fit(x_train, y_train, batch_size=_batch_size, epochs=_n_training_epochs)\n",
    "    return history, cnn_model"
   ]
  },
  {
   "cell_type": "code",
   "execution_count": 15,
   "metadata": {},
   "outputs": [
    {
     "name": "stdout",
     "output_type": "stream",
     "text": [
      "Epoch 1/10\n",
      "WARNING:tensorflow:AutoGraph could not transform <function Model.make_train_function.<locals>.train_function at 0x7f965538c598> and will run it as-is.\n",
      "Please report this to the TensorFlow team. When filing the bug, set the verbosity to 10 (on Linux, `export AUTOGRAPH_VERBOSITY=10`) and attach the full output.\n",
      "Cause: 'arguments' object has no attribute 'posonlyargs'\n",
      "To silence this warning, decorate the function with @tf.autograph.experimental.do_not_convert\n",
      "WARNING: AutoGraph could not transform <function Model.make_train_function.<locals>.train_function at 0x7f965538c598> and will run it as-is.\n",
      "Please report this to the TensorFlow team. When filing the bug, set the verbosity to 10 (on Linux, `export AUTOGRAPH_VERBOSITY=10`) and attach the full output.\n",
      "Cause: 'arguments' object has no attribute 'posonlyargs'\n",
      "To silence this warning, decorate the function with @tf.autograph.experimental.do_not_convert\n",
      "782/782 [==============================] - 70s 89ms/step - loss: 1.6149 - accuracy: 0.4057\n",
      "Epoch 2/10\n",
      "782/782 [==============================] - 70s 89ms/step - loss: 1.1341 - accuracy: 0.5955\n",
      "Epoch 3/10\n",
      "782/782 [==============================] - 70s 89ms/step - loss: 0.9350 - accuracy: 0.6722\n",
      "Epoch 4/10\n",
      "782/782 [==============================] - 70s 90ms/step - loss: 0.8168 - accuracy: 0.7144\n",
      "Epoch 5/10\n",
      "782/782 [==============================] - 71s 90ms/step - loss: 0.7416 - accuracy: 0.7416\n",
      "Epoch 6/10\n",
      "782/782 [==============================] - 71s 91ms/step - loss: 0.6792 - accuracy: 0.7622\n",
      "Epoch 7/10\n",
      "782/782 [==============================] - 72s 92ms/step - loss: 0.6353 - accuracy: 0.7774\n",
      "Epoch 8/10\n",
      "782/782 [==============================] - 73s 93ms/step - loss: 0.5913 - accuracy: 0.7925\n",
      "Epoch 9/10\n",
      "782/782 [==============================] - 73s 93ms/step - loss: 0.5602 - accuracy: 0.8052\n",
      "Epoch 10/10\n",
      "782/782 [==============================] - 74s 94ms/step - loss: 0.5265 - accuracy: 0.8149\n"
     ]
    }
   ],
   "source": [
    "batch_size = 64\n",
    "epochs = 10\n",
    "lr = .01\n",
    "history, cnn_model = train_network_concise(batch_size, epochs, lr)"
   ]
  },
  {
   "cell_type": "code",
   "execution_count": 17,
   "metadata": {},
   "outputs": [
    {
     "data": {
      "image/png": "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\n",
      "text/plain": [
       "<Figure size 360x216 with 1 Axes>"
      ]
     },
     "metadata": {
      "needs_background": "light"
     },
     "output_type": "display_data"
    },
    {
     "data": {
      "image/png": "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\n",
      "text/plain": [
       "<Figure size 360x216 with 1 Axes>"
      ]
     },
     "metadata": {
      "needs_background": "light"
     },
     "output_type": "display_data"
    }
   ],
   "source": [
    "plt.figure(figsize=(5,3))\n",
    "plt.plot(history.epoch,history.history['loss'])\n",
    "plt.title('loss')\n",
    "\n",
    "plt.figure(figsize=(5,3))\n",
    "plt.plot(history.epoch,history.history['accuracy'])\n",
    "plt.title('accuracy');"
   ]
  },
  {
   "cell_type": "code",
   "execution_count": 16,
   "metadata": {},
   "outputs": [
    {
     "name": "stdout",
     "output_type": "stream",
     "text": [
      "WARNING:tensorflow:AutoGraph could not transform <function Model.make_test_function.<locals>.test_function at 0x7f9660669f28> and will run it as-is.\n",
      "Please report this to the TensorFlow team. When filing the bug, set the verbosity to 10 (on Linux, `export AUTOGRAPH_VERBOSITY=10`) and attach the full output.\n",
      "Cause: 'arguments' object has no attribute 'posonlyargs'\n",
      "To silence this warning, decorate the function with @tf.autograph.experimental.do_not_convert\n",
      "WARNING: AutoGraph could not transform <function Model.make_test_function.<locals>.test_function at 0x7f9660669f28> and will run it as-is.\n",
      "Please report this to the TensorFlow team. When filing the bug, set the verbosity to 10 (on Linux, `export AUTOGRAPH_VERBOSITY=10`) and attach the full output.\n",
      "Cause: 'arguments' object has no attribute 'posonlyargs'\n",
      "To silence this warning, decorate the function with @tf.autograph.experimental.do_not_convert\n",
      "313/313 - 5s - loss: 0.6293 - accuracy: 0.7959 - 5s/epoch - 17ms/step\n",
      "accuracy: 79.59%\n",
      "CPU times: user 24.8 s, sys: 3.35 s, total: 28.2 s\n",
      "Wall time: 5.7 s\n"
     ]
    }
   ],
   "source": [
    "%%time\n",
    "x_test_reshaped = numpy.expand_dims(x_test, -1)\n",
    "scores = cnn_model.evaluate(x_test, y_test, verbose=2)\n",
    "print(\"%s: %.2f%%\" % (cnn_model.metrics_names[1], scores[1]*100))"
   ]
  },
  {
   "cell_type": "markdown",
   "metadata": {},
   "source": [
    "The classificatio accuracy increased from 58.06% to 79.59%"
   ]
  },
  {
   "cell_type": "code",
   "execution_count": null,
   "metadata": {},
   "outputs": [],
   "source": []
  }
 ],
 "metadata": {
  "kernelspec": {
   "display_name": "Python 3.9.13",
   "language": "python",
   "name": "python3"
  },
  "language_info": {
   "codemirror_mode": {
    "name": "ipython",
    "version": 3
   },
   "file_extension": ".py",
   "mimetype": "text/x-python",
   "name": "python",
   "nbconvert_exporter": "python",
   "pygments_lexer": "ipython3",
   "version": "3.9.13"
  },
  "vscode": {
   "interpreter": {
    "hash": "548134b59ff0fa297288d5cdc5e81b0479e9d8e6e0caea7a140e0d9e0e135508"
   }
  }
 },
 "nbformat": 4,
 "nbformat_minor": 4
}

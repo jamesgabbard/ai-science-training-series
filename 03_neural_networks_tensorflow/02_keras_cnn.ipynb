{
 "cells": [
  {
   "cell_type": "markdown",
   "metadata": {},
   "source": [
    "# CIFAR-10 dataset classification with CNNs\n",
    "\n",
    "Author: Tanwi Mallick, adapting codes from Bethany Lusch, Prasanna Balprakash, Corey Adams, and Kyle Felker\n",
    "\n",
    "In this notebook, we'll continue the CIFAR-10 problem using the Keras API (as included in the TensorFlow library) and incorporating convolutional layers.\n",
    "\n",
    "First, the needed imports."
   ]
  },
  {
   "cell_type": "code",
   "execution_count": 1,
   "metadata": {},
   "outputs": [],
   "source": [
    "%matplotlib inline\n",
    "\n",
    "import tensorflow as tf\n",
    "\n",
    "import numpy\n",
    "import matplotlib.pyplot as plt\n",
    "import time"
   ]
  },
  {
   "cell_type": "markdown",
   "metadata": {},
   "source": [
    "## CIFAR-10 data set\n",
    "\n",
    "Again we'll load the cifar10 data set. CIFAR-10 dataset contains 32x32 color images from 10 classes: airplane, automobile, bird, cat, deer, dog, frog, horse, ship, truck. If you haven't downloaded it already, it could take a while."
   ]
  },
  {
   "cell_type": "code",
   "execution_count": 2,
   "metadata": {},
   "outputs": [],
   "source": [
    "(x_train, y_train), (x_test, y_test) = tf.keras.datasets.cifar10.load_data()\n",
    "x_train = x_train.astype(numpy.float32)\n",
    "x_test  = x_test.astype(numpy.float32)\n",
    "\n",
    "x_train /= 255.\n",
    "x_test  /= 255.\n",
    "\n",
    "y_train = y_train.astype(numpy.int32)\n",
    "y_test  = y_test.astype(numpy.int32)"
   ]
  },
  {
   "cell_type": "markdown",
   "metadata": {},
   "source": [
    "This time we won't flatten the images. \n",
    "\n",
    "The training data (`X_train`) is a 4th-order tensor of size (50000, 32, 32, 3), i.e. it consists of 50000 images of size 32x32 pixels with 3 colors each. \n",
    "\n",
    "`y_train` is a 50000-dimensional vector containing the correct classes ('airplane', 'automobile', 'bird', 'cat', 'deer', 'dog', 'frog', 'horse', 'ship', 'truck') for each training sample."
   ]
  },
  {
   "cell_type": "markdown",
   "metadata": {},
   "source": [
    "## Convolutional neural network (CNN)\n",
    "\n",
    "CNN is a type of deep learning model for processing data that has a grid pattern, such as images.\n",
    "\n",
    "Let's use a small model that includes convolutional layers\n",
    "\n",
    "- The Conv2D layers operate on 2D matrices so we input the images directly to the model.\n",
    "    - The two Conv2D layers below learn 32 and 64 filters respectively. \n",
    "    - They are learning filters for 3x3 windows.\n",
    "- The MaxPooling2D layer reduces the spatial dimensions, that is, makes the image smaller.\n",
    "    - It downsamples by taking the maximum value in the window \n",
    "    - The pool size of (2, 2) below means the windows are 2x2. \n",
    "    - Helps in extracting important features and reduce computation\n",
    "- The Flatten layer flattens the 2D matrices into vectors, so we can then switch to Dense layers as in the MLP model.\n",
    "\n",
    "See https://keras.io/layers/convolutional/, https://keras.io/layers/pooling/ for more information."
   ]
  },
  {
   "cell_type": "markdown",
   "metadata": {},
   "source": [
    "![conv layer](images/conv_layer.png)\n",
    "Image credit: [Jason Brownlee](https://machinelearningmastery.com/convolutional-layers-for-deep-learning-neural-networks/)"
   ]
  },
  {
   "cell_type": "markdown",
   "metadata": {},
   "source": [
    "![conv layer](images/conv.png)\n",
    "Image credit: [Anh H. Reynolds](https://anhreynolds.com/blogs/cnn.html)"
   ]
  },
  {
   "cell_type": "markdown",
   "metadata": {},
   "source": [
    "\n",
    "<img src=\"images/MaxpoolSample2.png\" width=\"600\" hight=\"600\" align=\"left\"/>"
   ]
  },
  {
   "cell_type": "code",
   "execution_count": 3,
   "metadata": {},
   "outputs": [],
   "source": [
    "class CIFAR10Classifier(tf.keras.models.Model):\n",
    "\n",
    "    def __init__(self, activation=tf.nn.tanh):\n",
    "        tf.keras.models.Model.__init__(self)\n",
    "\n",
    "        self.conv_1 = tf.keras.layers.Conv2D(32, [3, 3], activation='relu')\n",
    "        self.conv_2 = tf.keras.layers.Conv2D(64, [3, 3], activation='relu')\n",
    "        self.pool_3 = tf.keras.layers.MaxPooling2D(pool_size=(2, 2))\n",
    "        self.drop_4 = tf.keras.layers.Dropout(0.25)\n",
    "        self.dense_5 = tf.keras.layers.Dense(128, activation='relu')\n",
    "        self.drop_6 = tf.keras.layers.Dropout(0.5)\n",
    "        self.dense_7 = tf.keras.layers.Dense(10, activation='softmax')\n",
    "\n",
    "    def call(self, inputs):\n",
    "\n",
    "        x = self.conv_1(inputs)\n",
    "        x = self.conv_2(x)\n",
    "        x = self.pool_3(x)\n",
    "        x = self.drop_4(x)\n",
    "        x = tf.keras.layers.Flatten()(x)\n",
    "        x = self.dense_5(x)\n",
    "        x = self.drop_6(x)\n",
    "        x = self.dense_7(x)\n",
    "\n",
    "        return x"
   ]
  },
  {
   "cell_type": "markdown",
   "metadata": {},
   "source": [
    "### Simple training"
   ]
  },
  {
   "cell_type": "markdown",
   "metadata": {},
   "source": [
    "Here is a concise way to train the network, like we did in the previous notebook. We'll see a more verbose approach below that allows more performance tuning."
   ]
  },
  {
   "cell_type": "code",
   "execution_count": 4,
   "metadata": {},
   "outputs": [],
   "source": [
    "def train_network_concise(_batch_size, _n_training_epochs, _lr):\n",
    "\n",
    "    cnn_model = CIFAR10Classifier()\n",
    "\n",
    "    cnn_model.compile(loss=\"sparse_categorical_crossentropy\", optimizer=\"adam\", metrics=['accuracy'])\n",
    "    \n",
    "    history = cnn_model.fit(x_train, y_train, batch_size=_batch_size, epochs=_n_training_epochs)\n",
    "    return history, cnn_model"
   ]
  },
  {
   "cell_type": "code",
   "execution_count": 5,
   "metadata": {},
   "outputs": [
    {
     "name": "stderr",
     "output_type": "stream",
     "text": [
      "2022-11-07 10:14:42.927601: I tensorflow/core/common_runtime/pluggable_device/pluggable_device_factory.cc:306] Could not identify NUMA node of platform GPU ID 0, defaulting to 0. Your kernel may not have been built with NUMA support.\n",
      "2022-11-07 10:14:42.927722: I tensorflow/core/common_runtime/pluggable_device/pluggable_device_factory.cc:272] Created TensorFlow device (/job:localhost/replica:0/task:0/device:GPU:0 with 0 MB memory) -> physical PluggableDevice (device: 0, name: METAL, pci bus id: <undefined>)\n"
     ]
    },
    {
     "name": "stdout",
     "output_type": "stream",
     "text": [
      "Metal device set to: Apple M1 Pro\n",
      "\n",
      "systemMemory: 32.00 GB\n",
      "maxCacheSize: 10.67 GB\n",
      "\n",
      "Epoch 1/30\n"
     ]
    },
    {
     "name": "stderr",
     "output_type": "stream",
     "text": [
      "2022-11-07 10:14:43.489040: W tensorflow/core/platform/profile_utils/cpu_utils.cc:128] Failed to get CPU frequency: 0 Hz\n",
      "2022-11-07 10:14:43.831498: I tensorflow/core/grappler/optimizers/custom_graph_optimizer_registry.cc:114] Plugin optimizer for device_type GPU is enabled.\n"
     ]
    },
    {
     "name": "stdout",
     "output_type": "stream",
     "text": [
      "98/98 [==============================] - 5s 43ms/step - loss: 1.7956 - accuracy: 0.3474\n",
      "Epoch 2/30\n",
      "98/98 [==============================] - 4s 42ms/step - loss: 1.4235 - accuracy: 0.4902\n",
      "Epoch 3/30\n",
      "98/98 [==============================] - 4s 42ms/step - loss: 1.2710 - accuracy: 0.5474\n",
      "Epoch 4/30\n",
      "98/98 [==============================] - 4s 42ms/step - loss: 1.1716 - accuracy: 0.5859\n",
      "Epoch 5/30\n",
      "98/98 [==============================] - 4s 42ms/step - loss: 1.1045 - accuracy: 0.6091\n",
      "Epoch 6/30\n",
      "98/98 [==============================] - 4s 42ms/step - loss: 1.0480 - accuracy: 0.6279\n",
      "Epoch 7/30\n",
      "98/98 [==============================] - 4s 42ms/step - loss: 0.9984 - accuracy: 0.6477\n",
      "Epoch 8/30\n",
      "98/98 [==============================] - 4s 42ms/step - loss: 0.9611 - accuracy: 0.6601\n",
      "Epoch 9/30\n",
      "98/98 [==============================] - 4s 43ms/step - loss: 0.9341 - accuracy: 0.6707\n",
      "Epoch 10/30\n",
      "98/98 [==============================] - 4s 42ms/step - loss: 0.9066 - accuracy: 0.6787\n",
      "Epoch 11/30\n",
      "98/98 [==============================] - 4s 41ms/step - loss: 0.8764 - accuracy: 0.6910\n",
      "Epoch 12/30\n",
      "98/98 [==============================] - 4s 44ms/step - loss: 0.8548 - accuracy: 0.6970\n",
      "Epoch 13/30\n",
      "98/98 [==============================] - 4s 42ms/step - loss: 0.8279 - accuracy: 0.7062\n",
      "Epoch 14/30\n",
      "98/98 [==============================] - 4s 43ms/step - loss: 0.8029 - accuracy: 0.7137\n",
      "Epoch 15/30\n",
      "98/98 [==============================] - 4s 44ms/step - loss: 0.7907 - accuracy: 0.7191\n",
      "Epoch 16/30\n",
      "98/98 [==============================] - 4s 42ms/step - loss: 0.7731 - accuracy: 0.7258\n",
      "Epoch 17/30\n",
      "98/98 [==============================] - 4s 42ms/step - loss: 0.7533 - accuracy: 0.7324\n",
      "Epoch 18/30\n",
      "98/98 [==============================] - 4s 44ms/step - loss: 0.7383 - accuracy: 0.7397\n",
      "Epoch 19/30\n",
      "98/98 [==============================] - 4s 42ms/step - loss: 0.7195 - accuracy: 0.7435\n",
      "Epoch 20/30\n",
      "98/98 [==============================] - 4s 41ms/step - loss: 0.6986 - accuracy: 0.7489\n",
      "Epoch 21/30\n",
      "98/98 [==============================] - 4s 42ms/step - loss: 0.6885 - accuracy: 0.7537\n",
      "Epoch 22/30\n",
      "98/98 [==============================] - 4s 41ms/step - loss: 0.6682 - accuracy: 0.7605\n",
      "Epoch 23/30\n",
      "98/98 [==============================] - 4s 44ms/step - loss: 0.6596 - accuracy: 0.7612\n",
      "Epoch 24/30\n",
      "98/98 [==============================] - 4s 44ms/step - loss: 0.6513 - accuracy: 0.7643\n",
      "Epoch 25/30\n",
      "98/98 [==============================] - 4s 45ms/step - loss: 0.6329 - accuracy: 0.7714\n",
      "Epoch 26/30\n",
      "98/98 [==============================] - 4s 44ms/step - loss: 0.6258 - accuracy: 0.7770\n",
      "Epoch 27/30\n",
      "98/98 [==============================] - 4s 43ms/step - loss: 0.6089 - accuracy: 0.7799\n",
      "Epoch 28/30\n",
      "98/98 [==============================] - 4s 44ms/step - loss: 0.5937 - accuracy: 0.7859\n",
      "Epoch 29/30\n",
      "98/98 [==============================] - 4s 43ms/step - loss: 0.5881 - accuracy: 0.7866\n",
      "Epoch 30/30\n",
      "98/98 [==============================] - 4s 42ms/step - loss: 0.5764 - accuracy: 0.7924\n"
     ]
    }
   ],
   "source": [
    "# This took 43 seconds per epoch on my laptop\n",
    "batch_size = 512\n",
    "epochs = 30\n",
    "lr = .01\n",
    "history, cnn_model = train_network_concise(batch_size, epochs, lr)"
   ]
  },
  {
   "cell_type": "markdown",
   "metadata": {},
   "source": [
    "Accuracy for test data.  The model should be better than the non-convolutional model even if you're only patient enough for three epochs. "
   ]
  },
  {
   "cell_type": "code",
   "execution_count": 6,
   "metadata": {},
   "outputs": [
    {
     "data": {
      "image/png": "[encoded data removed]",
      "text/plain": [
       "<Figure size 500x300 with 1 Axes>"
      ]
     },
     "metadata": {},
     "output_type": "display_data"
    },
    {
     "data": {
      "image/png": "[encoded data removed]",
      "text/plain": [
       "<Figure size 500x300 with 1 Axes>"
      ]
     },
     "metadata": {},
     "output_type": "display_data"
    }
   ],
   "source": [
    "plt.figure(figsize=(5,3))\n",
    "plt.plot(history.epoch,history.history['loss'])\n",
    "plt.title('loss')\n",
    "\n",
    "plt.figure(figsize=(5,3))\n",
    "plt.plot(history.epoch,history.history['accuracy'])\n",
    "plt.title('accuracy');"
   ]
  },
  {
   "cell_type": "markdown",
   "metadata": {},
   "source": [
    "### Inference"
   ]
  },
  {
   "cell_type": "markdown",
   "metadata": {},
   "source": [
    "With enough training epochs, the test accuracy should exceed 96.53%.\n",
    "\n",
    "You can compare your result with the state-of-the art [here](http://rodrigob.github.io/are_we_there_yet/build/classification_datasets_results.html). "
   ]
  },
  {
   "cell_type": "code",
   "execution_count": 7,
   "metadata": {},
   "outputs": [
    {
     "name": "stderr",
     "output_type": "stream",
     "text": [
      "2022-11-07 10:17:08.727723: I tensorflow/core/grappler/optimizers/custom_graph_optimizer_registry.cc:114] Plugin optimizer for device_type GPU is enabled.\n"
     ]
    },
    {
     "name": "stdout",
     "output_type": "stream",
     "text": [
      "313/313 - 2s - loss: 0.8522 - accuracy: 0.7154 - 2s/epoch - 7ms/step\n",
      "accuracy: 71.54%\n",
      "CPU times: user 1.22 s, sys: 853 ms, total: 2.08 s\n",
      "Wall time: 2.24 s\n"
     ]
    }
   ],
   "source": [
    "%%time\n",
    "x_test_reshaped = numpy.expand_dims(x_test, -1)\n",
    "scores = cnn_model.evaluate(x_test, y_test, verbose=2)\n",
    "print(\"%s: %.2f%%\" % (cnn_model.metrics_names[1], scores[1]*100))"
   ]
  },
  {
   "cell_type": "markdown",
   "metadata": {},
   "source": [
    "We can also again check the confusion matrix"
   ]
  },
  {
   "cell_type": "code",
   "execution_count": 8,
   "metadata": {},
   "outputs": [
    {
     "name": "stdout",
     "output_type": "stream",
     "text": [
      "Confusion matrix (rows: true classes; columns: predicted classes):\n",
      "\n",
      " 48/313 [===>..........................] - ETA: 0s"
     ]
    },
    {
     "name": "stderr",
     "output_type": "stream",
     "text": [
      "2022-11-07 10:17:23.156838: I tensorflow/core/grappler/optimizers/custom_graph_optimizer_registry.cc:114] Plugin optimizer for device_type GPU is enabled.\n"
     ]
    },
    {
     "name": "stdout",
     "output_type": "stream",
     "text": [
      "313/313 [==============================] - 1s 5ms/step\n",
      "[[788  26  44  25   9   4   9   9  46  40]\n",
      " [ 29 831   3   8   1   3   7   2  10 106]\n",
      " [ 78  10 544  63  86  94  69  33  10  13]\n",
      " [ 27  16  77 541  55 165  58  30  12  19]\n",
      " [ 33   5  69  78 641  29  64  68   9   4]\n",
      " [ 16   5  56 162  39 640  15  47   8  12]\n",
      " [  6   9  36  75  30  25 805   7   5   2]\n",
      " [ 13   5  30  41  54  63   6 770   0  18]\n",
      " [ 86  52   9  14   5   8   5   2 770  49]\n",
      " [ 34  76   7   8   6   5   3  18  19 824]]\n",
      "\n",
      "Classification accuracy for each class:\n",
      "\n",
      "0: 0.7880\n",
      "1: 0.8310\n",
      "2: 0.5440\n",
      "3: 0.5410\n",
      "4: 0.6410\n",
      "5: 0.6400\n",
      "6: 0.8050\n",
      "7: 0.7700\n",
      "8: 0.7700\n",
      "9: 0.8240\n"
     ]
    }
   ],
   "source": [
    "from sklearn.metrics import confusion_matrix\n",
    "\n",
    "print('Confusion matrix (rows: true classes; columns: predicted classes):'); print()\n",
    "predictions = cnn_model.predict(x_test)\n",
    "cm=confusion_matrix(y_test, numpy.argmax(predictions, axis=1), labels=list(range(10)))\n",
    "print(cm); print()\n",
    "\n",
    "print('Classification accuracy for each class:'); print()\n",
    "for i,j in enumerate(cm.diagonal()/cm.sum(axis=1)): print(\"%d: %.4f\" % (i,j))"
   ]
  },
  {
   "cell_type": "markdown",
   "metadata": {},
   "source": [
    "### More verbose training"
   ]
  },
  {
   "cell_type": "markdown",
   "metadata": {},
   "source": [
    "This approach explicitly handles the looping over data. It will be helpful in future weeks for diving in and optimizing"
   ]
  },
  {
   "cell_type": "code",
   "execution_count": 9,
   "metadata": {},
   "outputs": [],
   "source": [
    "def compute_loss(y_true, y_pred):\n",
    "    # if labels are integers, use sparse categorical crossentropy\n",
    "    # network's final layer is softmax, so from_logtis=False\n",
    "    scce = tf.keras.losses.SparseCategoricalCrossentropy(from_logits=False)\n",
    "    # if labels are one-hot encoded, use standard crossentropy\n",
    "\n",
    "    return scce(y_true, y_pred)  "
   ]
  },
  {
   "cell_type": "code",
   "execution_count": 10,
   "metadata": {},
   "outputs": [],
   "source": [
    "def forward_pass(model, batch_data, y_true):\n",
    "    y_pred = model(batch_data)\n",
    "    loss = compute_loss(y_true, y_pred)\n",
    "    return loss"
   ]
  },
  {
   "cell_type": "code",
   "execution_count": 11,
   "metadata": {},
   "outputs": [],
   "source": [
    "# Here is a function that will manage the training loop for us:\n",
    "\n",
    "def train_loop(batch_size, n_training_epochs, model, opt):\n",
    "    \n",
    "    @tf.function()\n",
    "    def train_iteration(data, y_true, model, opt):\n",
    "        with tf.GradientTape() as tape:\n",
    "            loss = forward_pass(model, data, y_true)\n",
    "\n",
    "        trainable_vars = model.trainable_variables\n",
    "\n",
    "        # Apply the update to the network (one at a time):\n",
    "        grads = tape.gradient(loss, trainable_vars)\n",
    "\n",
    "        opt.apply_gradients(zip(grads, trainable_vars))\n",
    "        return loss\n",
    "\n",
    "    for i_epoch in range(n_training_epochs):\n",
    "        print(\"beginning epoch %d\" % i_epoch)\n",
    "        start = time.time()\n",
    "\n",
    "        epoch_steps = int(50000/batch_size)\n",
    "        dataset.shuffle(50000) # Shuffle the whole dataset in memory\n",
    "        batches = dataset.batch(batch_size=batch_size, drop_remainder=True)\n",
    "        \n",
    "        for i_batch, (batch_data, y_true) in enumerate(batches):\n",
    "            batch_data = tf.reshape(batch_data, [-1, 32, 32, 3])\n",
    "            loss = train_iteration(batch_data, y_true, model, opt)\n",
    "            \n",
    "        end = time.time()\n",
    "        print(\"took %1.1f seconds for epoch #%d\" % (end-start, i_epoch))"
   ]
  },
  {
   "cell_type": "code",
   "execution_count": 12,
   "metadata": {},
   "outputs": [],
   "source": [
    "def train_network(_batch_size, _n_training_epochs, _lr):\n",
    "\n",
    "    cifar_model = CIFAR10Classifier()\n",
    "\n",
    "    opt = tf.keras.optimizers.Adam(_lr)\n",
    "\n",
    "    train_loop(_batch_size, _n_training_epochs, cifar_model, opt)"
   ]
  },
  {
   "cell_type": "code",
   "execution_count": 13,
   "metadata": {},
   "outputs": [
    {
     "name": "stdout",
     "output_type": "stream",
     "text": [
      "beginning epoch 0\n"
     ]
    },
    {
     "name": "stderr",
     "output_type": "stream",
     "text": [
      "2022-11-07 10:19:22.159650: I tensorflow/core/grappler/optimizers/custom_graph_optimizer_registry.cc:114] Plugin optimizer for device_type GPU is enabled.\n"
     ]
    },
    {
     "name": "stdout",
     "output_type": "stream",
     "text": [
      "took 4.1 seconds for epoch #0\n",
      "beginning epoch 1\n",
      "took 3.8 seconds for epoch #1\n",
      "beginning epoch 2\n",
      "took 3.8 seconds for epoch #2\n"
     ]
    }
   ],
   "source": [
    "dataset = tf.data.Dataset.from_tensor_slices((x_train, y_train))\n",
    "dataset.shuffle(50000)\n",
    "\n",
    "batch_size = 512\n",
    "epochs = 3\n",
    "lr = .01\n",
    "train_network(batch_size, epochs, lr)"
   ]
  },
  {
   "cell_type": "markdown",
   "metadata": {},
   "source": [
    "# Homework: improve the accuracy of this model"
   ]
  },
  {
   "cell_type": "markdown",
   "metadata": {},
   "source": [
    "Update this notebook to ensure more accuracy. How high can it be raised? Changes like increasing the number of epochs, altering the learning rate, altering the number of neurons the hidden layer, chnaging the optimizer, etc. could be made directly in the notebook. You can also change the model specification by expanding the network's layer. The current notebook's training accuracy is roughly 58.06%, although it varies randomly."
   ]
  },
  {
   "cell_type": "markdown",
   "metadata": {},
   "source": [
    "# Solution\n",
    "As with the assignment from the previous week, the network in the notebook above is not close to fully trained. To increase the accuracy to ~78%, training is done over fifty epochs with a smaller batch size and a higher learning rate. I've also added an extra convolutional layer and dropout layer to the architecture, but it's unclear that this is having a major effect on the final accuracy."
   ]
  },
  {
   "cell_type": "code",
   "execution_count": 21,
   "metadata": {},
   "outputs": [
    {
     "name": "stdout",
     "output_type": "stream",
     "text": [
      "Epoch 1/50\n"
     ]
    },
    {
     "name": "stderr",
     "output_type": "stream",
     "text": [
      "2022-11-07 11:12:56.352537: I tensorflow/core/grappler/optimizers/custom_graph_optimizer_registry.cc:114] Plugin optimizer for device_type GPU is enabled.\n"
     ]
    },
    {
     "name": "stdout",
     "output_type": "stream",
     "text": [
      "196/196 [==============================] - 6s 28ms/step - loss: 1.7462 - accuracy: 0.3620\n",
      "Epoch 2/50\n",
      "196/196 [==============================] - 5s 27ms/step - loss: 1.3746 - accuracy: 0.5050\n",
      "Epoch 3/50\n",
      "196/196 [==============================] - 5s 27ms/step - loss: 1.2098 - accuracy: 0.5703\n",
      "Epoch 4/50\n",
      "196/196 [==============================] - 5s 26ms/step - loss: 1.1001 - accuracy: 0.6138\n",
      "Epoch 5/50\n",
      "196/196 [==============================] - 5s 26ms/step - loss: 1.0161 - accuracy: 0.6428\n",
      "Epoch 6/50\n",
      "196/196 [==============================] - 5s 26ms/step - loss: 0.9589 - accuracy: 0.6629\n",
      "Epoch 7/50\n",
      "196/196 [==============================] - 5s 26ms/step - loss: 0.9068 - accuracy: 0.6825\n",
      "Epoch 8/50\n",
      "196/196 [==============================] - 5s 26ms/step - loss: 0.8710 - accuracy: 0.6947\n",
      "Epoch 9/50\n",
      "196/196 [==============================] - 5s 27ms/step - loss: 0.8405 - accuracy: 0.7057\n",
      "Epoch 10/50\n",
      "196/196 [==============================] - 5s 27ms/step - loss: 0.8111 - accuracy: 0.7156\n",
      "Epoch 11/50\n",
      "196/196 [==============================] - 5s 26ms/step - loss: 0.7846 - accuracy: 0.7246\n",
      "Epoch 12/50\n",
      "196/196 [==============================] - 5s 26ms/step - loss: 0.7656 - accuracy: 0.7296\n",
      "Epoch 13/50\n",
      "196/196 [==============================] - 5s 26ms/step - loss: 0.7432 - accuracy: 0.7394\n",
      "Epoch 14/50\n",
      "196/196 [==============================] - 5s 26ms/step - loss: 0.7224 - accuracy: 0.7458\n",
      "Epoch 15/50\n",
      "196/196 [==============================] - 5s 26ms/step - loss: 0.7097 - accuracy: 0.7505\n",
      "Epoch 16/50\n",
      "196/196 [==============================] - 5s 26ms/step - loss: 0.6892 - accuracy: 0.7570\n",
      "Epoch 17/50\n",
      "196/196 [==============================] - 5s 26ms/step - loss: 0.6765 - accuracy: 0.7594\n",
      "Epoch 18/50\n",
      "196/196 [==============================] - 5s 26ms/step - loss: 0.6547 - accuracy: 0.7670\n",
      "Epoch 19/50\n",
      "196/196 [==============================] - 5s 26ms/step - loss: 0.6426 - accuracy: 0.7753\n",
      "Epoch 20/50\n",
      "196/196 [==============================] - 5s 26ms/step - loss: 0.6313 - accuracy: 0.7757\n",
      "Epoch 21/50\n",
      "196/196 [==============================] - 5s 26ms/step - loss: 0.6182 - accuracy: 0.7803\n",
      "Epoch 22/50\n",
      "196/196 [==============================] - 5s 26ms/step - loss: 0.6107 - accuracy: 0.7835\n",
      "Epoch 23/50\n",
      "196/196 [==============================] - 5s 26ms/step - loss: 0.5997 - accuracy: 0.7874\n",
      "Epoch 24/50\n",
      "196/196 [==============================] - 5s 26ms/step - loss: 0.5820 - accuracy: 0.7929\n",
      "Epoch 25/50\n",
      "196/196 [==============================] - 5s 27ms/step - loss: 0.5813 - accuracy: 0.7943\n",
      "Epoch 26/50\n",
      "196/196 [==============================] - 5s 26ms/step - loss: 0.5666 - accuracy: 0.7979\n",
      "Epoch 27/50\n",
      "196/196 [==============================] - 5s 26ms/step - loss: 0.5614 - accuracy: 0.8003\n",
      "Epoch 28/50\n",
      "196/196 [==============================] - 5s 26ms/step - loss: 0.5538 - accuracy: 0.8004\n",
      "Epoch 29/50\n",
      "196/196 [==============================] - 5s 26ms/step - loss: 0.5388 - accuracy: 0.8067\n",
      "Epoch 30/50\n",
      "196/196 [==============================] - 5s 26ms/step - loss: 0.5339 - accuracy: 0.8087\n",
      "Epoch 31/50\n",
      "196/196 [==============================] - 5s 26ms/step - loss: 0.5240 - accuracy: 0.8118\n",
      "Epoch 32/50\n",
      "196/196 [==============================] - 5s 26ms/step - loss: 0.5196 - accuracy: 0.8138\n",
      "Epoch 33/50\n",
      "196/196 [==============================] - 5s 26ms/step - loss: 0.5103 - accuracy: 0.8187\n",
      "Epoch 34/50\n",
      "196/196 [==============================] - 5s 26ms/step - loss: 0.5051 - accuracy: 0.8175\n",
      "Epoch 35/50\n",
      "196/196 [==============================] - 5s 26ms/step - loss: 0.4967 - accuracy: 0.8198\n",
      "Epoch 36/50\n",
      "196/196 [==============================] - 5s 26ms/step - loss: 0.4900 - accuracy: 0.8223\n",
      "Epoch 37/50\n",
      "196/196 [==============================] - 5s 26ms/step - loss: 0.4840 - accuracy: 0.8263\n",
      "Epoch 38/50\n",
      "196/196 [==============================] - 5s 26ms/step - loss: 0.4804 - accuracy: 0.8294\n",
      "Epoch 39/50\n",
      "196/196 [==============================] - 5s 26ms/step - loss: 0.4716 - accuracy: 0.8288\n",
      "Epoch 40/50\n",
      "196/196 [==============================] - 5s 26ms/step - loss: 0.4614 - accuracy: 0.8341\n",
      "Epoch 41/50\n",
      "196/196 [==============================] - 5s 26ms/step - loss: 0.4663 - accuracy: 0.8322\n",
      "Epoch 42/50\n",
      "196/196 [==============================] - 5s 26ms/step - loss: 0.4591 - accuracy: 0.8346\n",
      "Epoch 43/50\n",
      "196/196 [==============================] - 5s 26ms/step - loss: 0.4564 - accuracy: 0.8346\n",
      "Epoch 44/50\n",
      "196/196 [==============================] - 5s 26ms/step - loss: 0.4508 - accuracy: 0.8361\n",
      "Epoch 45/50\n",
      "196/196 [==============================] - 5s 27ms/step - loss: 0.4348 - accuracy: 0.8418\n",
      "Epoch 46/50\n",
      "196/196 [==============================] - 5s 26ms/step - loss: 0.4406 - accuracy: 0.8410\n",
      "Epoch 47/50\n",
      "196/196 [==============================] - 5s 26ms/step - loss: 0.4333 - accuracy: 0.8439\n",
      "Epoch 48/50\n",
      "196/196 [==============================] - 5s 26ms/step - loss: 0.4352 - accuracy: 0.8428\n",
      "Epoch 49/50\n",
      "196/196 [==============================] - 5s 26ms/step - loss: 0.4251 - accuracy: 0.8458\n",
      "Epoch 50/50\n",
      "196/196 [==============================] - 5s 26ms/step - loss: 0.4167 - accuracy: 0.8492\n"
     ]
    }
   ],
   "source": [
    "###\n",
    "# New Architecture\n",
    "###\n",
    "class NewCIFAR10Classifier(tf.keras.models.Model):\n",
    "\n",
    "    def __init__(self, activation=tf.nn.tanh):\n",
    "        tf.keras.models.Model.__init__(self)\n",
    "\n",
    "        # Initial convolutional layers (same as above)\n",
    "        self.conv_1 = tf.keras.layers.Conv2D(32, [3, 3], activation='relu')\n",
    "        self.conv_2 = tf.keras.layers.Conv2D(64, [3, 3], activation='relu')\n",
    "        self.pool_3 = tf.keras.layers.MaxPooling2D(pool_size=(2, 2))\n",
    "\n",
    "        # Inserted an extra convolutional layer and pooling layer\n",
    "        self.conv_4 = tf.keras.layers.Conv2D(64, [3, 3], activation='relu')\n",
    "        self.pool_5 = tf.keras.layers.MaxPooling2D(pool_size=(2, 2))\n",
    "\n",
    "        # Final dense layers (same as above)\n",
    "        self.drop_6 = tf.keras.layers.Dropout(0.25)\n",
    "        self.dense_7 = tf.keras.layers.Dense(128, activation='relu')\n",
    "        self.drop_8 = tf.keras.layers.Dropout(0.5)\n",
    "        self.dense_9 = tf.keras.layers.Dense(10, activation='softmax')\n",
    "\n",
    "    def call(self, inputs):\n",
    "\n",
    "        x = self.conv_1(inputs)\n",
    "        x = self.conv_2(x)\n",
    "        x = self.pool_3(x)\n",
    "\n",
    "        x = self.conv_4(x)\n",
    "        x = self.pool_5(x)\n",
    "\n",
    "        x = tf.keras.layers.Flatten()(x)\n",
    "\n",
    "        x = self.drop_6(x)\n",
    "        x = self.dense_7(x)\n",
    "        x = self.drop_8(x)\n",
    "        x = self.dense_9(x)\n",
    "\n",
    "        return x\n",
    "\n",
    "###\n",
    "# New training parameters\n",
    "###\n",
    "batch_size = 256\n",
    "epochs = 50\n",
    "lr = .03\n",
    "\n",
    "cnn_model = NewCIFAR10Classifier()\n",
    "cnn_model.compile(loss=\"sparse_categorical_crossentropy\", optimizer=\"adam\", metrics=['accuracy'])\n",
    "history = cnn_model.fit(x_train, y_train, batch_size=batch_size, epochs=epochs)"
   ]
  },
  {
   "cell_type": "code",
   "execution_count": 23,
   "metadata": {},
   "outputs": [
    {
     "name": "stdout",
     "output_type": "stream",
     "text": [
      "313/313 - 2s - loss: 0.6961 - accuracy: 0.7793 - 2s/epoch - 6ms/step\n",
      "accuracy: 77.93%\n",
      "CPU times: user 1.15 s, sys: 844 ms, total: 1.99 s\n",
      "Wall time: 1.94 s\n"
     ]
    }
   ],
   "source": [
    "# Evaluate accuracy on test data\n",
    "%%time\n",
    "x_test_reshaped = numpy.expand_dims(x_test, -1)\n",
    "scores = cnn_model.evaluate(x_test, y_test, verbose=2)\n",
    "print(\"%s: %.2f%%\" % (cnn_model.metrics_names[1], scores[1]*100))"
   ]
  },
  {
   "cell_type": "code",
   "execution_count": 24,
   "metadata": {},
   "outputs": [
    {
     "name": "stdout",
     "output_type": "stream",
     "text": [
      "Model: \"new_cifar10_classifier_4\"\n",
      "_________________________________________________________________\n",
      " Layer (type)                Output Shape              Param #   \n",
      "=================================================================\n",
      " conv2d_15 (Conv2D)          multiple                  896       \n",
      "                                                                 \n",
      " conv2d_16 (Conv2D)          multiple                  18496     \n",
      "                                                                 \n",
      " max_pooling2d_8 (MaxPooling  multiple                 0         \n",
      " 2D)                                                             \n",
      "                                                                 \n",
      " conv2d_17 (Conv2D)          multiple                  36928     \n",
      "                                                                 \n",
      " max_pooling2d_9 (MaxPooling  multiple                 0         \n",
      " 2D)                                                             \n",
      "                                                                 \n",
      " dropout_14 (Dropout)        multiple                  0         \n",
      "                                                                 \n",
      " dense_14 (Dense)            multiple                  295040    \n",
      "                                                                 \n",
      " dropout_15 (Dropout)        multiple                  0         \n",
      "                                                                 \n",
      " dense_15 (Dense)            multiple                  1290      \n",
      "                                                                 \n",
      "=================================================================\n",
      "Total params: 352,650\n",
      "Trainable params: 352,650\n",
      "Non-trainable params: 0\n",
      "_________________________________________________________________\n"
     ]
    }
   ],
   "source": [
    "cnn_model.summary()"
   ]
  },
  {
   "cell_type": "code",
   "execution_count": null,
   "metadata": {},
   "outputs": [],
   "source": []
  }
 ],
 "metadata": {
  "kernelspec": {
   "display_name": "Python 3.9.13",
   "language": "python",
   "name": "python3"
  },
  "language_info": {
   "codemirror_mode": {
    "name": "ipython",
    "version": 3
   },
   "file_extension": ".py",
   "mimetype": "text/x-python",
   "name": "python",
   "nbconvert_exporter": "python",
   "pygments_lexer": "ipython3",
   "version": "3.9.13"
  },
  "vscode": {
   "interpreter": {
    "hash": "548134b59ff0fa297288d5cdc5e81b0479e9d8e6e0caea7a140e0d9e0e135508"
   }
  }
 },
 "nbformat": 4,
 "nbformat_minor": 4
}

{
 "cells": [
  {
   "cell_type": "code",
   "execution_count": 1,
   "id": "662a93d1",
   "metadata": {},
   "outputs": [],
   "source": [
    "%load_ext autoreload\n",
    "%autoreload 2"
   ]
  },
  {
   "cell_type": "code",
   "execution_count": 2,
   "id": "e19878bb",
   "metadata": {},
   "outputs": [],
   "source": [
    "%matplotlib inline\n",
    "\n",
    "import tensorflow as tf\n",
    "\n",
    "import numpy\n",
    "import matplotlib.pyplot as plt"
   ]
  },
  {
   "cell_type": "code",
   "execution_count": 3,
   "id": "da412dba",
   "metadata": {},
   "outputs": [
    {
     "name": "stdout",
     "output_type": "stream",
     "text": [
      "(60000, 28, 28)\n",
      "(60000, 784)\n",
      "\n",
      "MNIST data loaded: train: 60000 test: 10000\n",
      "X_train: (60000, 784)\n",
      "y_train: (60000,)\n"
     ]
    }
   ],
   "source": [
    "# repeating the data prep from the previous notebook\n",
    "(x_train, y_train), (x_test, y_test) = tf.keras.datasets.mnist.load_data()\n",
    "x_train = x_train.astype(numpy.float32)\n",
    "x_test  = x_test.astype(numpy.float32)\n",
    "\n",
    "x_train /= 255.\n",
    "x_test  /= 255.\n",
    "\n",
    "print(x_train.shape)\n",
    "x_train = x_train.reshape(x_train.shape[0], numpy.prod(x_train[0,:,:].shape))\n",
    "x_test = x_test.reshape(x_test.shape[0], numpy.prod(x_test[0,:,:].shape))\n",
    "\n",
    "print(x_train.shape)\n",
    "y_train = y_train.astype(numpy.int32)\n",
    "y_test  = y_test.astype(numpy.int32)\n",
    "\n",
    "print()\n",
    "print('MNIST data loaded: train:',len(x_train),'test:',len(x_test))\n",
    "print('X_train:', x_train.shape)\n",
    "print('y_train:', y_train.shape)\n",
    "\n",
    "# one-hot encoding:\n",
    "nb_classes = 10\n",
    "y_train_onehot = tf.keras.utils.to_categorical(y_train, nb_classes)\n",
    "y_test_onehot = tf.keras.utils.to_categorical(y_test, nb_classes)"
   ]
  },
  {
   "cell_type": "code",
   "execution_count": 4,
   "id": "302994b1",
   "metadata": {},
   "outputs": [],
   "source": [
    "# Here we import an implementation of a two-layer neural network \n",
    "# this code is based on pieces of the first assignment from Stanford's CSE231n course, \n",
    "# hosted at https://github.com/cs231n/cs231n.github.io with the MIT license\n",
    "from fc_net import TwoLayerNet"
   ]
  },
  {
   "cell_type": "code",
   "execution_count": 5,
   "id": "4e00e3de",
   "metadata": {},
   "outputs": [],
   "source": [
    "num_features = x_train.shape[1] # this is the number of pixels\n",
    "# The weights are initialized from a normal distribution with standard deviation weight_scale\n",
    "model = TwoLayerNet(input_dim=num_features, hidden_dim=300, num_classes=nb_classes, weight_scale=.01)"
   ]
  },
  {
   "cell_type": "code",
   "execution_count": 6,
   "id": "32f7f1aa",
   "metadata": {},
   "outputs": [],
   "source": [
    "# here you can take a look if you want at the initial loss from an untrained network\n",
    "loss, gradients = model.loss(x_train, y_train_onehot)"
   ]
  },
  {
   "cell_type": "code",
   "execution_count": 7,
   "id": "c43e3aa5",
   "metadata": {},
   "outputs": [],
   "source": [
    "# a simple implementation of stochastic gradient descent\n",
    "def sgd(model, gradients, learning_rate):\n",
    "    for p, w in model.params.items():\n",
    "        dw = gradients[p]\n",
    "        new_weights = w - learning_rate * dw\n",
    "        model.params[p] = new_weights\n",
    "    return model"
   ]
  },
  {
   "cell_type": "code",
   "execution_count": 8,
   "id": "c8316228",
   "metadata": {},
   "outputs": [],
   "source": [
    "# one training step\n",
    "def learn(model, x_train, y_train_onehot, learning_rate):\n",
    "    loss, gradients = model.loss(x_train, y_train_onehot)\n",
    "    model = sgd(model, gradients, learning_rate)\n",
    "    return loss, model"
   ]
  },
  {
   "cell_type": "code",
   "execution_count": 9,
   "id": "81886e8c",
   "metadata": {},
   "outputs": [],
   "source": [
    "def accuracy(model, x, true_values):\n",
    "    scores = model.loss(x)\n",
    "    predictions = numpy.argmax(scores, axis=1)\n",
    "    N = predictions.shape[0]\n",
    "    acc = (true_values == predictions).sum() / N\n",
    "    return acc"
   ]
  },
  {
   "cell_type": "code",
   "execution_count": 10,
   "id": "49754891",
   "metadata": {},
   "outputs": [
    {
     "name": "stdout",
     "output_type": "stream",
     "text": [
      "epoch 0, loss 2.30087, accuracy 0.13\n",
      "epoch 1, loss 2.29951, accuracy 0.16\n",
      "epoch 2, loss 2.29787, accuracy 0.21\n",
      "epoch 3, loss 2.29651, accuracy 0.25\n",
      "epoch 4, loss 2.29496, accuracy 0.30\n",
      "epoch 5, loss 2.29323, accuracy 0.34\n",
      "epoch 6, loss 2.29170, accuracy 0.38\n",
      "epoch 7, loss 2.29025, accuracy 0.41\n",
      "epoch 8, loss 2.28852, accuracy 0.44\n",
      "epoch 9, loss 2.28690, accuracy 0.46\n"
     ]
    },
    {
     "data": {
      "text/plain": [
       "[<matplotlib.lines.Line2D at 0x16ae1c340>]"
      ]
     },
     "execution_count": 10,
     "metadata": {},
     "output_type": "execute_result"
    },
    {
     "data": {
      "image/png": "[encoded data removed]",
      "text/plain": [
       "<Figure size 640x480 with 1 Axes>"
      ]
     },
     "metadata": {},
     "output_type": "display_data"
    }
   ],
   "source": [
    "# Here's an example training loop using this two-layer model. Can you do better? \n",
    "learning_rate = 0.01\n",
    "num_examples = x_train.shape[0]\n",
    "batch_size = 10000\n",
    "num_batches = int(num_examples / batch_size)\n",
    "num_epochs = 10\n",
    "losses = numpy.zeros(num_batches*num_epochs,)\n",
    "indices = numpy.arange(num_examples)\n",
    "\n",
    "i = 0\n",
    "for epoch in range(0, num_epochs):\n",
    "    # in each epoch, we loop over all of the training examples\n",
    "    for step in range(0, num_batches):\n",
    "        # grabbing the next batch\n",
    "        offset = step * batch_size\n",
    "        batch_range = range(offset, offset+batch_size)\n",
    "        x_train_batch = x_train[batch_range, :]\n",
    "        y_train_batch = y_train_onehot[batch_range,:]\n",
    "        \n",
    "        # feed the next batch in to do one sgd step\n",
    "        loss, model = learn(model, x_train_batch, y_train_batch, learning_rate)\n",
    "        losses[i] = loss\n",
    "        i += 1\n",
    "\n",
    "    acc = accuracy(model, x_train, y_train)\n",
    "    print(\"epoch %d, loss %.5f, accuracy %.2f\" % (epoch, loss, acc))\n",
    "    \n",
    "    # reshuffle the data so that we get a new set of batches\n",
    "    numpy.random.shuffle(indices)\n",
    "    x_train = x_train[indices,:]\n",
    "    y_train = y_train[indices] # keep this shuffled the same way for use in accuracy calculation\n",
    "    y_train_onehot = y_train_onehot[indices,:]\n",
    "plt.plot(losses)"
   ]
  },
  {
   "cell_type": "code",
   "execution_count": 11,
   "id": "a4f274c6",
   "metadata": {},
   "outputs": [
    {
     "data": {
      "text/plain": [
       "0.4661"
      ]
     },
     "execution_count": 11,
     "metadata": {},
     "output_type": "execute_result"
    }
   ],
   "source": [
    "accuracy(model, x_test, y_test)"
   ]
  },
  {
   "cell_type": "markdown",
   "id": "a2dd5728",
   "metadata": {},
   "source": [
    "# Homework: improve the accuracy of this model. "
   ]
  },
  {
   "cell_type": "markdown",
   "id": "faaf0515",
   "metadata": {},
   "source": [
    "Update this notebook so that the accuracy is improved. How high can you get it? You could change things directly in the notebook, such as increasing the number of epochs, changing the learning weight, changing the width of the hidden layer, etc. If you're more ambitious, you could also try changing the model definition itself by checking out the associated Python files. For example, you could add more layers to the network. The current notebook has a training accuracy of about 43%, but will vary with randomness."
   ]
  },
  {
   "cell_type": "markdown",
   "id": "02d60fad",
   "metadata": {},
   "source": [
    "# Solution\n",
    "Part of the reason that the accuracy is low is because we haven't trained the model very much. Some quick changes to increase accuracy up to ~88%:\n",
    "\n",
    " - *Decrease batch size by a factor of 20*. This gives 20 times as many batches in an epoch, which leads to 20 times as many updates to the model parameters in each epoch. The number of operations needed per epoch remains the same. The downside is that this increases the variance of the SGD update, so training behavior may be slightly more erratic. In practice it seems that batches are still large enough to avoid this.\n",
    " - *Double the number of epochs*. This increases the number of times we update the parameters, without affecting the variane of the update. It does double the number of training operations, though.\n",
    "\n",
    "With this the accuracy of the trained model levels off at around 88% after 15 epochs. To get a bit further:\n",
    "\n",
    " - *Double the learning rate.* This allows the model to reach the same accuracy in about 8 epochs, and by epoch 20 the accuracy is closer to 91%. There is an upper limit to this strategy, and pushing the rate too high will cause erratic training behavior.\n",
    "\n",
    "Finally, with 40 epochs (4x the original value) of training at an even higher learning rate of 0.05 (5x the original value), the accuracy reaches 95%. Returns are greatly diminishing at this point: the first 5 epochs take us to 90%, while the last 35 are responsible for 5% more accuracy."
   ]
  },
  {
   "cell_type": "code",
   "execution_count": 12,
   "id": "98722f5b",
   "metadata": {},
   "outputs": [
    {
     "name": "stdout",
     "output_type": "stream",
     "text": [
      "epoch 0, loss 1.41470, accuracy 0.72\n",
      "epoch 1, loss 0.66254, accuracy 0.84\n",
      "epoch 2, loss 0.52483, accuracy 0.87\n",
      "epoch 3, loss 0.48064, accuracy 0.88\n",
      "epoch 4, loss 0.47385, accuracy 0.89\n",
      "epoch 5, loss 0.41408, accuracy 0.90\n",
      "epoch 6, loss 0.29835, accuracy 0.90\n",
      "epoch 7, loss 0.37411, accuracy 0.91\n",
      "epoch 8, loss 0.30089, accuracy 0.91\n",
      "epoch 9, loss 0.34321, accuracy 0.91\n",
      "epoch 10, loss 0.28757, accuracy 0.91\n",
      "epoch 11, loss 0.30578, accuracy 0.92\n",
      "epoch 12, loss 0.31598, accuracy 0.92\n",
      "epoch 13, loss 0.26595, accuracy 0.92\n",
      "epoch 14, loss 0.31387, accuracy 0.92\n",
      "epoch 15, loss 0.30881, accuracy 0.93\n",
      "epoch 16, loss 0.24938, accuracy 0.93\n",
      "epoch 17, loss 0.24441, accuracy 0.93\n",
      "epoch 18, loss 0.21931, accuracy 0.93\n",
      "epoch 19, loss 0.25800, accuracy 0.93\n",
      "epoch 20, loss 0.22096, accuracy 0.93\n",
      "epoch 21, loss 0.21830, accuracy 0.93\n",
      "epoch 22, loss 0.24990, accuracy 0.94\n",
      "epoch 23, loss 0.22773, accuracy 0.94\n",
      "epoch 24, loss 0.19886, accuracy 0.94\n",
      "epoch 25, loss 0.22610, accuracy 0.94\n",
      "epoch 26, loss 0.25298, accuracy 0.94\n",
      "epoch 27, loss 0.24402, accuracy 0.94\n",
      "epoch 28, loss 0.13421, accuracy 0.94\n",
      "epoch 29, loss 0.18923, accuracy 0.95\n",
      "epoch 30, loss 0.21392, accuracy 0.95\n",
      "epoch 31, loss 0.19747, accuracy 0.95\n",
      "epoch 32, loss 0.21235, accuracy 0.95\n",
      "epoch 33, loss 0.18742, accuracy 0.95\n",
      "epoch 34, loss 0.13577, accuracy 0.95\n",
      "epoch 35, loss 0.13296, accuracy 0.95\n",
      "epoch 36, loss 0.18811, accuracy 0.95\n",
      "epoch 37, loss 0.20348, accuracy 0.95\n",
      "epoch 38, loss 0.15993, accuracy 0.95\n",
      "epoch 39, loss 0.20680, accuracy 0.95\n",
      "Final model accuracy on test data: 0.952000\n"
     ]
    },
    {
     "data": {
      "image/png": "[encoded data removed]",
      "text/plain": [
       "<Figure size 640x480 with 1 Axes>"
      ]
     },
     "metadata": {},
     "output_type": "display_data"
    }
   ],
   "source": [
    "# Start with a fresh model\n",
    "better_model = TwoLayerNet(input_dim=num_features, hidden_dim=300, num_classes=nb_classes, weight_scale=.01)\n",
    "\n",
    "# More aggressive training parameters\n",
    "learning_rate = 0.05\n",
    "num_examples = x_train.shape[0]\n",
    "batch_size = 500\n",
    "num_batches = int(num_examples / batch_size)\n",
    "num_epochs = 40\n",
    "losses = numpy.zeros(num_batches*num_epochs,)\n",
    "indices = numpy.arange(num_examples)\n",
    "\n",
    "i = 0\n",
    "for epoch in range(0, num_epochs):\n",
    "    # in each epoch, we loop over all of the training examples\n",
    "    for step in range(0, num_batches):\n",
    "        # grabbing the next batch\n",
    "        offset = step * batch_size\n",
    "        batch_range = range(offset, offset+batch_size)\n",
    "        x_train_batch = x_train[batch_range, :]\n",
    "        y_train_batch = y_train_onehot[batch_range,:]\n",
    "        \n",
    "        # feed the next batch in to do one sgd step\n",
    "        loss, better_model = learn(better_model, x_train_batch, y_train_batch, learning_rate)\n",
    "        losses[i] = loss\n",
    "        i += 1\n",
    "\n",
    "    acc = accuracy(better_model, x_train, y_train)\n",
    "    print(\"epoch %d, loss %.5f, accuracy %.2f\" % (epoch, loss, acc))\n",
    "    \n",
    "    # reshuffle the data so that we get a new set of batches\n",
    "    numpy.random.shuffle(indices)\n",
    "    x_train = x_train[indices,:]\n",
    "    y_train = y_train[indices] # keep this shuffled the same way for use in accuracy calculation\n",
    "    y_train_onehot = y_train_onehot[indices,:]\n",
    "plt.plot(losses)\n",
    "\n",
    "print(\"Final model accuracy on test data: %f\" % (accuracy(better_model, x_test, y_test)))"
   ]
  }
 ],
 "metadata": {
  "kernelspec": {
   "display_name": "Python 3.9.13",
   "language": "python",
   "name": "python3"
  },
  "language_info": {
   "codemirror_mode": {
    "name": "ipython",
    "version": 3
   },
   "file_extension": ".py",
   "mimetype": "text/x-python",
   "name": "python",
   "nbconvert_exporter": "python",
   "pygments_lexer": "ipython3",
   "version": "3.9.13"
  },
  "vscode": {
   "interpreter": {
    "hash": "548134b59ff0fa297288d5cdc5e81b0479e9d8e6e0caea7a140e0d9e0e135508"
   }
  }
 },
 "nbformat": 4,
 "nbformat_minor": 5
}
